{
 "cells": [
  {
   "cell_type": "code",
   "execution_count": null,
   "id": "62872dc4",
   "metadata": {},
   "outputs": [],
   "source": [
    "def sum_of_two_num():\n",
    "    try:\n",
    "        num1 = float(input(\"enter the number\"))\n",
    "        num2 = float(input('enter the number'))\n",
    "        result = num1 + num2\n",
    "        print(f\"sum of {num1} and {num2} is  : {result}\")\n",
    "    except :\n",
    "        return'Please enter the valid numbers'\n",
    "\n",
    "sum_of_two_num()"
   ]
  },
  {
   "cell_type": "code",
   "execution_count": null,
   "id": "cc9f39da",
   "metadata": {},
   "outputs": [
    {
     "ename": "",
     "evalue": "",
     "output_type": "error",
     "traceback": [
      "\u001b[1;31mRunning cells with 'Python 3.13.3' requires the ipykernel package.\n",
      "\u001b[1;31m<a href='command:jupyter.createPythonEnvAndSelectController'>Create a Python Environment</a> with the required packages.\n",
      "\u001b[1;31mOr install 'ipykernel' using the command: 'c:/Users/FL_LPT-511/AppData/Local/Microsoft/WindowsApps/python3.13.exe -m pip install ipykernel -U --user --force-reinstall'"
     ]
    }
   ],
   "source": [
    "##  Write a Python program that checks whether a number is even or odd using a function.\n",
    "def even_or_odd():\n",
    "    try:\n",
    "        num = float(input('enter the number'))\n",
    "        if num%2==0:\n",
    "            return 'Even Number'\n",
    "        else:\n",
    "            return 'Odd Number'\n",
    "    except:\n",
    "        return 'enter the valid number'\n",
    "even_or_odd()"
   ]
  },
  {
   "cell_type": "code",
   "execution_count": null,
   "id": "3b14abdd",
   "metadata": {},
   "outputs": [],
   "source": []
  }
 ],
 "metadata": {
  "kernelspec": {
   "display_name": "Python 3",
   "language": "python",
   "name": "python3"
  },
  "language_info": {
   "name": "python",
   "version": "3.13.3"
  }
 },
 "nbformat": 4,
 "nbformat_minor": 5
}
