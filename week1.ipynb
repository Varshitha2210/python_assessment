{
 "cells": [
  {
   "cell_type": "code",
   "execution_count": null,
   "id": "62872dc4",
   "metadata": {},
   "outputs": [],
   "source": [
    "## Write a function that takes two numbers as input and returns their sum.\n",
    "def sum_of_two_num(num1,num2):\n",
    "    return num1+num2\n",
    "sum_of_two_num(1,15)"
   ]
  },
  {
   "cell_type": "code",
   "execution_count": null,
   "id": "cc9f39da",
   "metadata": {},
   "outputs": [],
   "source": [
    "##  Write a Python program that checks whether a number is even or odd using a function.\n",
    "\n",
    "def even_or_odd(num):\n",
    "    if num%2==0:\n",
    "        return 'Even Number'\n",
    "    else:\n",
    "        return 'Odd Number'\n",
    "print(even_or_odd(10))\n",
    "print(even_or_odd(13))"
   ]
  }
 ],
 "metadata": {
  "language_info": {
   "name": "python"
  }
 },
 "nbformat": 4,
 "nbformat_minor": 5
}
