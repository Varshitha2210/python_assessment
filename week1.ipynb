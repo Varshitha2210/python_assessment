{
 "cells": [
  {
   "cell_type": "code",
   "execution_count": null,
   "id": "62872dc4",
   "metadata": {},
   "outputs": [],
   "source": [
    "## Write a function that takes two numbers as input and returns their sum.\n",
    "def sum_of_two_num():\n",
    "    try:\n",
    "        num1 = float(input(\"Enter the first number: \"))\n",
    "        num2 = float(input(\"Enter the second number: \"))\n",
    "        result = num1 + num2\n",
    "        print(f\"Sum of {num1} and {num2} is: {result}\")\n",
    "    except ValueError:\n",
    "        print('Please enter valid numbers')\n",
    "\n",
    "sum_of_two_num()"
   ]
  },
  {
   "cell_type": "code",
   "execution_count": null,
   "id": "cc9f39da",
   "metadata": {},
   "outputs": [],
   "source": [
    "## Write a Python program that checks whether a number is even or odd using a function.\n",
    "def even_or_odd():\n",
    "    try:\n",
    "        num = int(input('Enter a number: '))\n",
    "        if num % 2 == 0:\n",
    "            print('Even Number')\n",
    "        else:\n",
    "            print('Odd Number')\n",
    "    except ValueError:\n",
    "        print('Please enter a valid integer')\n",
    "\n",
    "even_or_odd()"
   ]
  }
 ],
 "metadata": {
  "language_info": {
   "name": "python"
  }
 }
}

