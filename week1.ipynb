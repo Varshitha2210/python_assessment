{
 "cells": [
  {
   "cell_type": "code",
   "execution_count": null,
   "id": "62872dc4",
   "metadata": {},
   "outputs": [],
   "source": [
    "def sum_of_two_num():\n",
    "    try:\n",
    "        num1 = float(input(\"enter the number\"))\n",
    "        num2 = float(input('enter the number'))\n",
    "        result = num1 + num2\n",
    "        print(f\"sum of {num1} and {num2} is  : {result}\")\n",
    "    except :\n",
    "        return'Please enter the valid numbers'\n",
    "\n",
    "sum_of_two_num()"
   ]
  },
  {
   "cell_type": "code",
   "execution_count": null,
   "id": "cc9f39da",
   "metadata": {},
   "outputs": [],
   "source": [
    "##  Write a Python program that checks whether a number is even or odd using a function.\n",
    "def even_or_odd():\n",
    "    try:\n",
    "        num = float(input('enter the number'))\n",
    "        if num%2==0:\n",
    "            return 'Even Number'\n",
    "        else:\n",
    "            return 'Odd Number'\n",
    "    except:\n",
    "        return 'enter the valid number'\n",
    "even_or_odd()"
   ]
  },
  {
   "cell_type": "code",
   "execution_count": null,
   "id": "3b14abdd",
   "metadata": {},
   "outputs": [],
   "source": []
  }
 ],
 "metadata": {
  "kernelspec": {
   "display_name": ".venv",
   "language": "python",
   "name": "python3"
  },
  "language_info": {
   "name": "python",
   "version": "3.13.3"
  }
 },
 "nbformat": 4,
 "nbformat_minor": 5
}
